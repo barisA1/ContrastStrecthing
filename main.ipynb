{
 "cells": [
  {
   "cell_type": "code",
   "execution_count": null,
   "id": "11b64596",
   "metadata": {},
   "outputs": [],
   "source": [
    "import pandas as pd\n",
    "import numpy as np"
   ]
  },
  {
   "cell_type": "code",
   "execution_count": null,
   "id": "57db6d7b",
   "metadata": {},
   "outputs": [],
   "source": [
    "# Dosya yolunu tam olarak belirtiyoruz\n",
    "file_path = r'C:\\Users\\Barış\\Desktop\\soru1_2_data.xlsx'"
   ]
  },
  {
   "cell_type": "code",
   "execution_count": null,
   "id": "0a66dfe9",
   "metadata": {},
   "outputs": [],
   "source": [
    "# Dosyayı yükle\n",
    "df = pd.read_excel(file_path)"
   ]
  },
  {
   "cell_type": "code",
   "execution_count": null,
   "id": "cddb3cea",
   "metadata": {},
   "outputs": [],
   "source": [
    "# Veriyi numpy array'e çevir\n",
    "data = df.to_numpy()"
   ]
  },
  {
   "cell_type": "code",
   "execution_count": null,
   "id": "ddfc6263",
   "metadata": {},
   "outputs": [],
   "source": [
    "# Contrast Stretching fonksiyonu\n",
    "def contrast_stretching(data, L=256):\n",
    "    min_val = np.min(data)\n",
    "    max_val = np.max(data)\n",
    "    rows, cols = data.shape\n",
    "    stretched_data = np.zeros((rows, cols))\n",
    "\n",
    "    for i in range(rows):\n",
    "        for j in range(cols):\n",
    "            stretched_data[i, j] = ((data[i, j] - min_val) / (max_val - min_val)) * (L - 1)\n",
    "\n",
    "    return stretched_data"
   ]
  },
  {
   "cell_type": "code",
   "execution_count": null,
   "id": "2a11065a",
   "metadata": {},
   "outputs": [],
   "source": [
    "# Contrast Stretching uygulaması\n",
    "stretched_data = contrast_stretching(data)"
   ]
  },
  {
   "cell_type": "code",
   "execution_count": null,
   "id": "78819c11",
   "metadata": {},
   "outputs": [],
   "source": [
    "# Sonuçları daha okunaklı bir formatta yazdırma\n",
    "with np.printoptions(precision=2, suppress=True):\n",
    "    print(\"Contrast Stretching Sonucu:\\n\", stretched_data)"
   ]
  }
 ],
 "metadata": {
  "jupytext": {
   "cell_metadata_filter": "-all",
   "main_language": "python",
   "notebook_metadata_filter": "-all"
  }
 },
 "nbformat": 4,
 "nbformat_minor": 5
}
